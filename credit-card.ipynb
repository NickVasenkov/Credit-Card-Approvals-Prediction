{
 "cells": [
  {
   "cell_type": "markdown",
   "id": "8f5c0f3e",
   "metadata": {},
   "source": [
    "# Credit Card Approvals Prediction\n",
    " An automatic credit card approval predictor using machine learning techniques in Python.\n",
    "\n",
    "We'll use the Credit Card Approval dataset from the UCI Machine Learning Repository: http://archive.ics.uci.edu/ml/datasets/credit+approval\n",
    "\n",
    "Since this data is confidential, the contributor of the dataset has anonymized the feature names."
   ]
  },
  {
   "cell_type": "code",
   "execution_count": null,
   "id": "ee6fe0ef",
   "metadata": {},
   "outputs": [],
   "source": []
  }
 ],
 "metadata": {
  "kernelspec": {
   "display_name": "Python 3 (ipykernel)",
   "language": "python",
   "name": "python3"
  },
  "language_info": {
   "codemirror_mode": {
    "name": "ipython",
    "version": 3
   },
   "file_extension": ".py",
   "mimetype": "text/x-python",
   "name": "python",
   "nbconvert_exporter": "python",
   "pygments_lexer": "ipython3",
   "version": "3.10.9"
  }
 },
 "nbformat": 4,
 "nbformat_minor": 5
}
